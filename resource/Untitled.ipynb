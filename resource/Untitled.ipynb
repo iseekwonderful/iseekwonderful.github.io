{
 "cells": [
  {
   "cell_type": "code",
   "execution_count": 31,
   "metadata": {
    "collapsed": false
   },
   "outputs": [
    {
     "data": {
      "text/html": [
       "\n",
       "        <iframe\n",
       "            width=\"900\"\n",
       "            height=\"600\"\n",
       "            src=\"index.html\"\n",
       "            frameborder=\"0\"\n",
       "            allowfullscreen\n",
       "        ></iframe>\n",
       "        "
      ],
      "text/plain": [
       "<IPython.lib.display.IFrame at 0x10e82cc90>"
      ]
     },
     "execution_count": 31,
     "metadata": {},
     "output_type": "execute_result"
    }
   ],
   "source": [
    "from echarts import Echart, Legend, Bar, Axis, Pie\n",
    "chart = Echart('Map Picks in MLG', 'In group A')\n",
    "chart.use(Pie('Map Picks in MLG', \n",
    "              [{'value': 2, 'name': 'de_dust2'},\n",
    "               {'value': 3, 'name': 'de_cache'},\n",
    "               {'value': 12, 'name': 'de_mirage'},\n",
    "               {'value': 9, 'name': 'de_inferno'}\n",
    "              ],\n",
    "            radius=[\"50%\", \"70%\"])\n",
    "         )\n",
    "chart.use(Legend([\"de_dust2\", \"de_cache\", \"de_mirage\", \"de_inferno\"]))\n",
    "del chart.json[\"xAxis\"]\n",
    "del chart.json[\"yAxis\"]\n",
    "chart.plot()"
   ]
  },
  {
   "cell_type": "code",
   "execution_count": 54,
   "metadata": {
    "collapsed": false
   },
   "outputs": [
    {
     "data": {
      "text/html": [
       "\n",
       "        <iframe\n",
       "            width=\"900\"\n",
       "            height=\"600\"\n",
       "            src=\"index.html\"\n",
       "            frameborder=\"0\"\n",
       "            allowfullscreen\n",
       "        ></iframe>\n",
       "        "
      ],
      "text/plain": [
       "<IPython.lib.display.IFrame at 0x10e881c90>"
      ]
     },
     "execution_count": 54,
     "metadata": {},
     "output_type": "execute_result"
    }
   ],
   "source": [
    "from echarts import Echart, Legend, Bar, Axis\n",
    "chart = Echart(\"The Winrate of Tyloo and VG in this year\", \"The data is faked\")\n",
    "chart.use(Bar(\"Tyloo\", [\"50\", \"72\", \"64\", \"42\", \"30\", \"72\"], ))\n",
    "chart.use(Bar(\"VG\", [\"55\", \"48\", \"56\", \"63\", \"70\", \"55\"]))\n",
    "chart.use(Axis(\"category\", \"bottom\", \"map\", [\"de_dust2\", \"de_cache\", \"de_mirage\", \"de_cbble\", \"de_nuke\", \"de_cbble\"]))\n",
    "chart.use(Legend([\"Tyloo\", \"VG\"], position=('center', \"bottom\")))\n",
    "chart.json\n",
    "chart.plot()"
   ]
  },
  {
   "cell_type": "code",
   "execution_count": 77,
   "metadata": {
    "collapsed": false
   },
   "outputs": [
    {
     "data": {
      "text/html": [
       "\n",
       "        <iframe\n",
       "            width=\"900\"\n",
       "            height=\"600\"\n",
       "            src=\"index.html\"\n",
       "            frameborder=\"0\"\n",
       "            allowfullscreen\n",
       "        ></iframe>\n",
       "        "
      ],
      "text/plain": [
       "<IPython.lib.display.IFrame at 0x10ee5a710>"
      ]
     },
     "execution_count": 77,
     "metadata": {},
     "output_type": "execute_result"
    }
   ],
   "source": [
    "import numpy\n",
    "from echarts import Echart, Legend, Scatter, Axis\n",
    "data = numpy.random.uniform(0, 100, 100).reshape(50, 2).tolist()\n",
    "chart = Echart(\"Random Number Distribute\", \"just a rundom number\")\n",
    "for x in data:\n",
    "    chart.use(Scatter(\"{}\".format(numpy.random.uniform(0, 100, 1).tolist()[0]), [x]))\n",
    "chart.use(Legend([\"data\"]))\n",
    "chart.plot()"
   ]
  },
  {
   "cell_type": "code",
   "execution_count": 131,
   "metadata": {
    "collapsed": false
   },
   "outputs": [
    {
     "data": {
      "text/html": [
       "\n",
       "        <iframe\n",
       "            width=\"900\"\n",
       "            height=\"600\"\n",
       "            src=\"index.html\"\n",
       "            frameborder=\"0\"\n",
       "            allowfullscreen\n",
       "        ></iframe>\n",
       "        "
      ],
      "text/plain": [
       "<IPython.lib.display.IFrame at 0x10ef7b050>"
      ]
     },
     "execution_count": 131,
     "metadata": {},
     "output_type": "execute_result"
    }
   ],
   "source": [
    "from echarts import Echart, Legend, Line, Axis, Tooltip\n",
    "import numpy as np\n",
    "import math\n",
    "data = [[round(t, 4) for t in np.random.uniform(15 * x, 25 * (x + 1), 7).tolist()] for x in range(4)]\n",
    "chart = Echart(\"The expression level in four organsim\", \"random data\")\n",
    "organism = [\"Spleen\", \"Skin\", \"HK\", \"Jill\"]\n",
    "for x in range(4):\n",
    "    chart.use(Line(organism[x], data[x]))\n",
    "chart.use(Axis('category', 'bottom', data=[\"0H\", \"6H\", \"12H\", \"2Day\", \"3Day\", \"5Day\", \"7Day\"], boundaryGap=False))\n",
    "chart.use(Axis('value', 'left'))\n",
    "chart.use(Legend(data=[\"Spleen\", \"Skin\", \"HK\", \"Jill\"], position=('center', 'bottom')))\n",
    "chart.use(Tooltip())\n",
    "chart.plot()"
   ]
  }
 ],
 "metadata": {
  "kernelspec": {
   "display_name": "Python 2",
   "language": "python",
   "name": "python2"
  },
  "language_info": {
   "codemirror_mode": {
    "name": "ipython",
    "version": 2
   },
   "file_extension": ".py",
   "mimetype": "text/x-python",
   "name": "python",
   "nbconvert_exporter": "python",
   "pygments_lexer": "ipython2",
   "version": "2.7.10"
  }
 },
 "nbformat": 4,
 "nbformat_minor": 0
}
